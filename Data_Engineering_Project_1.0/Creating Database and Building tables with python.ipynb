{
 "cells": [
  {
   "cell_type": "code",
   "execution_count": 1,
   "id": "61ad9aa6-46e9-46b8-a91f-c7578b665780",
   "metadata": {},
   "outputs": [
    {
     "name": "stdout",
     "output_type": "stream",
     "text": [
      "Defaulting to user installation because normal site-packages is not writeable\n",
      "Collecting psycopg2\n",
      "  Downloading psycopg2-2.9.10-cp312-cp312-win_amd64.whl.metadata (5.0 kB)\n",
      "Downloading psycopg2-2.9.10-cp312-cp312-win_amd64.whl (1.2 MB)\n",
      "   ---------------------------------------- 0.0/1.2 MB ? eta -:--:--\n",
      "   ------------------ --------------------- 0.5/1.2 MB 5.6 MB/s eta 0:00:01\n",
      "   ---------------------------------------- 1.2/1.2 MB 3.9 MB/s eta 0:00:00\n",
      "Installing collected packages: psycopg2\n",
      "Successfully installed psycopg2-2.9.10\n"
     ]
    }
   ],
   "source": [
    "!pip install psycopg2"
   ]
  },
  {
   "cell_type": "code",
   "execution_count": 2,
   "id": "701d1b71-c071-4851-86ce-fa2c58f753dd",
   "metadata": {},
   "outputs": [],
   "source": [
    "import psycopg2"
   ]
  },
  {
   "cell_type": "markdown",
   "id": "98564540-985a-45c8-81bd-aab033c62dda",
   "metadata": {},
   "source": [
    "create a connection to the database"
   ]
  },
  {
   "cell_type": "code",
   "execution_count": 4,
   "id": "21752164-ea8c-4a02-b3b3-76fbcdb84a30",
   "metadata": {},
   "outputs": [],
   "source": [
    "try:\n",
    "    conn = psycopg2.connect(\"host=127.0.0.1 dbname=postgres user=postgres password=0000\")\n",
    "except psycopg2.Error as e:\n",
    "    print(\"Error: Could not make a connection to the Postgres database\")\n",
    "    print(e)"
   ]
  },
  {
   "cell_type": "markdown",
   "id": "b759097e-65f5-4190-bf02-f3780d05f17d",
   "metadata": {},
   "source": [
    "set automatic commit to be true so that each action is commited without having to call conn.commit() after each command"
   ]
  },
  {
   "cell_type": "code",
   "execution_count": null,
   "id": "1f383e44-61a5-4218-9255-1f8582c3d4f3",
   "metadata": {},
   "outputs": [],
   "source": [
    "use the connection to get a cursor that can be used to execute queries"
   ]
  },
  {
   "cell_type": "code",
   "execution_count": 8,
   "id": "41ec5c01-e1d1-4470-bac8-b97f5f1a7508",
   "metadata": {},
   "outputs": [],
   "source": [
    "try:\n",
    "    cur= conn.cursor()\n",
    "except psycopg2.Error as e:\n",
    "    print(\"Error: Could not get curser to the Database\")\n",
    "    print(e)"
   ]
  },
  {
   "cell_type": "markdown",
   "id": "bc70648b-7fff-481d-913f-1a5a1a597bd9",
   "metadata": {},
   "source": [
    "set automatic commit to be true so that each action is committed without having to call conn.commit() after each command"
   ]
  },
  {
   "cell_type": "code",
   "execution_count": 9,
   "id": "ab3f3bc4-03ed-48af-833d-003f13aecd82",
   "metadata": {},
   "outputs": [],
   "source": [
    "conn.set_session(autocommit=True)"
   ]
  },
  {
   "cell_type": "markdown",
   "id": "20b08961-7fe0-4189-a1c6-c137485b7c77",
   "metadata": {},
   "source": [
    "Create a database to do the work in"
   ]
  },
  {
   "cell_type": "code",
   "execution_count": 10,
   "id": "62187876-ec91-4e51-aed9-7527326fb07e",
   "metadata": {},
   "outputs": [],
   "source": [
    "try:\n",
    "    cur.execute(\"create database myfirstdb\")\n",
    "except psycopg2.Error as e:\n",
    "    print(e)"
   ]
  },
  {
   "cell_type": "markdown",
   "id": "43d68d4d-0891-4401-a337-8e15a01b655a",
   "metadata": {},
   "source": [
    "add the database name in the connect statement. Let's close our connection to the default database, reconnect to the Udacity database, and get a new cursor."
   ]
  },
  {
   "cell_type": "code",
   "execution_count": 11,
   "id": "7b54c94d-1cc7-4d91-a6cb-f49a3ffc2ce8",
   "metadata": {},
   "outputs": [],
   "source": [
    "try:\n",
    "    conn.close()\n",
    "except psycopy2.Error as e:\n",
    "    print(e)\n",
    "\n",
    "try:\n",
    "    conn = psycopg2.connect(\"host=127.0.0.1 dbname=myfirstdb user=postgres password=0000\")\n",
    "except psycopg2.Error as e:\n",
    "    print(\"Error: Could not make connection to the Postgres database\")\n",
    "    print(e)\n",
    "\n",
    "try:\n",
    "    cur= conn.cursor()\n",
    "except psycopg2.Error as e:\n",
    "    print(\"Error: Could not get cursor to the Database\")\n",
    "    print(e)\n",
    "\n",
    "conn.set_session(autocommit=True)"
   ]
  },
  {
   "cell_type": "markdown",
   "id": "5c34c089-beae-424d-9cb2-d66f43069053",
   "metadata": {},
   "source": [
    "create table for students which includes below columns\n",
    "student_id\n",
    "name\n",
    "age\n",
    "gender\n",
    "subject\n",
    "marks"
   ]
  },
  {
   "cell_type": "code",
   "execution_count": 12,
   "id": "2e78ebbe-fd5c-42a8-b0aa-1d190a0f34af",
   "metadata": {},
   "outputs": [],
   "source": [
    "try:\n",
    "    cur.execute(\"CREATE TABLE IF NOT EXISTS students (student_id int,name varchar,\\\n",
    "    age int,gender varchar, subject varchar, marks int);\")\n",
    "except psycopg2.Error as e:\n",
    "    print(\"Error: Issue creating table\")\n",
    "    print(e)"
   ]
  },
  {
   "cell_type": "markdown",
   "id": "6f4e90f2-f779-4b7e-b0de-bc21f079c495",
   "metadata": {},
   "source": [
    "Insert the following two rows in the table\n",
    "First Row: 1, \"Raj\", 23, \"Male\",\"Python\",85\n",
    "Second Row: 2, \"Priya\", 22, \"Female\", \"Python\", 86"
   ]
  },
  {
   "cell_type": "code",
   "execution_count": 18,
   "id": "562766fd-6068-487f-9257-3a5e11061658",
   "metadata": {},
   "outputs": [],
   "source": [
    "try:\n",
    "    cur.execute(\"INSERT INTO students(student_id, name,age, gender, subject, marks)\\\n",
    "                VALUES (%s, %s, %s, %s, %s, %s)\",\n",
    "                (1, \"Raj\", 23,\"Male\",\"Python\",85))\n",
    "except psycopg2.Error as e:\n",
    "    print(\"Error: Inserting rows\")\n",
    "    print(e)\n",
    "\n",
    "try:\n",
    "    cur.execute(\"INSERT INTO students (student_id, name,age, gender, subject, marks)\\\n",
    "                VALUES (%s, %s, %s, %s, %s, %s)\",\n",
    "                (2, \"Priya\", 22, \"Female\", \"Python\", 86))\n",
    "except psycopg2.Error as e:\n",
    "    print(\"Error: Inserting Rows\")\n",
    "    print(e)\n"
   ]
  },
  {
   "cell_type": "markdown",
   "id": "f742cde4-a901-411a-afcf-6537f6ec60e4",
   "metadata": {},
   "source": [
    "Validate your data was inserted into the table"
   ]
  },
  {
   "cell_type": "code",
   "execution_count": 19,
   "id": "64f395f0-e61c-4725-9bfa-ef7d030db467",
   "metadata": {},
   "outputs": [
    {
     "name": "stdout",
     "output_type": "stream",
     "text": [
      "(1, 'Raj', 23, 'Male', 'Python', 85)\n",
      "(2, 'Priya', 22, 'Female', 'Python', 86)\n"
     ]
    }
   ],
   "source": [
    "try:\n",
    "    cur.execute(\"SELECT * FROM students;\")\n",
    "except psycopg2.Error as e:\n",
    "    print(\"Error: select *\")\n",
    "    print(e)\n",
    "\n",
    "row = cur.fetchone()\n",
    "while row:\n",
    "    print(row)\n",
    "    row = cur.fetchone()"
   ]
  },
  {
   "cell_type": "code",
   "execution_count": 22,
   "id": "764ccaf7-e6bd-4144-9625-838406268ea9",
   "metadata": {},
   "outputs": [],
   "source": [
    "try:\n",
    "    cur.execute(\"INSERT INTO students (student_id, name, age, gender, subject, marks)\\\n",
    "                VALUES (%s, %s, %s, %s, %s, %s)\",\\\n",
    "                (3, \"Sindhu\", 23, \"Female\", \"Python\", 98))\n",
    "except psycopg2.Error as e:\n",
    "    print(\"Error : inserting third row\")\n",
    "    print(e)"
   ]
  },
  {
   "cell_type": "markdown",
   "id": "411e1836-f638-4905-befe-674cd5bdafcb",
   "metadata": {},
   "source": [
    "and finally close your cursor and connection"
   ]
  },
  {
   "cell_type": "code",
   "execution_count": 23,
   "id": "d2df5908-2af1-41da-927f-c133c595d0c5",
   "metadata": {},
   "outputs": [],
   "source": [
    "cur.close()\n",
    "conn.close()"
   ]
  },
  {
   "cell_type": "code",
   "execution_count": null,
   "id": "7168f2d3-b579-417a-99d9-8e451973447f",
   "metadata": {},
   "outputs": [],
   "source": []
  }
 ],
 "metadata": {
  "kernelspec": {
   "display_name": "Python 3 (ipykernel)",
   "language": "python",
   "name": "python3"
  },
  "language_info": {
   "codemirror_mode": {
    "name": "ipython",
    "version": 3
   },
   "file_extension": ".py",
   "mimetype": "text/x-python",
   "name": "python",
   "nbconvert_exporter": "python",
   "pygments_lexer": "ipython3",
   "version": "3.12.6"
  }
 },
 "nbformat": 4,
 "nbformat_minor": 5
}
